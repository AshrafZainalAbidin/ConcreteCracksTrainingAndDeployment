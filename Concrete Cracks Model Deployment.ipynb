{
 "cells": [
  {
   "cell_type": "markdown",
   "metadata": {},
   "source": [
    "### 1. Import Modules"
   ]
  },
  {
   "cell_type": "code",
   "execution_count": null,
   "metadata": {},
   "outputs": [],
   "source": [
    "import tensorflow as tf\n",
    "from tensorflow import keras\n",
    "from tensorflow.keras import layers, optimizers, losses, callbacks, applications, models\n",
    "import numpy as np\n",
    "import matplotlib.pyplot as plt\n",
    "import os, datetime"
   ]
  },
  {
   "cell_type": "markdown",
   "metadata": {},
   "source": [
    "### 2. Load Model"
   ]
  },
  {
   "cell_type": "code",
   "execution_count": null,
   "metadata": {},
   "outputs": [],
   "source": [
    "model = keras.models.load_model(f\"{os.getcwd()}/runs/model1.h5\")\n"
   ]
  },
  {
   "cell_type": "markdown",
   "metadata": {},
   "source": [
    "### 3. Splitting Dataset Similar To Training File To Use Test Dataset"
   ]
  },
  {
   "cell_type": "code",
   "execution_count": null,
   "metadata": {},
   "outputs": [],
   "source": [
    "PATH = f\"{os.getcwd()}/Datasets\"\n",
    "\n",
    "BATCH_SIZE = 27\n",
    "IMG_SIZE = (160, 160)\n",
    "\n",
    "dataset = tf.keras.utils.image_dataset_from_directory(PATH,\n",
    "                                                        shuffle=True,\n",
    "                                                        seed=42,\n",
    "                                                        batch_size=BATCH_SIZE,\n",
    "                                                        image_size=IMG_SIZE)\n",
    "\n",
    "class_names = dataset.class_names\n",
    "\n",
    "batches_train_test = tf.data.experimental.cardinality(dataset)\n",
    "train_dataset = dataset.skip(batches_train_test//5)\n",
    "test_dataset_before_split = dataset.take(batches_train_test//5)\n",
    "\n",
    "batches_test_val = tf.data.experimental.cardinality(test_dataset_before_split)\n",
    "test_dataset = test_dataset_before_split.take(batches_test_val//2)\n",
    "validation_dataset = test_dataset_before_split.skip(batches_test_val//2)\n",
    "\n",
    "print(len(dataset))\n",
    "print(len(train_dataset))\n",
    "print(len(test_dataset))\n",
    "print(len(validation_dataset))"
   ]
  },
  {
   "cell_type": "markdown",
   "metadata": {},
   "source": [
    "### 4. Model Deployment"
   ]
  },
  {
   "cell_type": "code",
   "execution_count": null,
   "metadata": {},
   "outputs": [],
   "source": [
    "image_batch, label_batch = test_dataset.as_numpy_iterator().next()\n",
    "predictions = model.predict_on_batch(image_batch)\n",
    "prediction_indexes = np.argmax(predictions, axis=1)\n",
    "label_map = {i:names for i, names in enumerate(class_names)}\n",
    "prediction_list = [label_map[i] for i in prediction_indexes]\n",
    "label_list = [label_map[i] for i in label_batch]\n",
    "\n",
    "plt.figure(figsize=(10,10))\n",
    "for i in range(9):\n",
    "    ax = plt.subplot(3, 3, i+1)\n",
    "    plt.imshow(image_batch[i].astype(\"uint8\"))\n",
    "    if prediction_list[i] == label_list[i]:\n",
    "        mark = \"✔️\"\n",
    "    else:\n",
    "        mark = \"❌\"\n",
    "    plt.title(f\"Prediction: {prediction_list[i]}\\nLabel: {label_list[i]}    {mark}\")\n",
    "    plt.axis(\"off\")\n",
    "    plt.grid(\"off\")"
   ]
  }
 ],
 "metadata": {
  "kernelspec": {
   "display_name": "Python 3",
   "language": "python",
   "name": "python3"
  },
  "language_info": {
   "codemirror_mode": {
    "name": "ipython",
    "version": 3
   },
   "file_extension": ".py",
   "mimetype": "text/x-python",
   "name": "python",
   "nbconvert_exporter": "python",
   "pygments_lexer": "ipython3",
   "version": "3.9.18"
  }
 },
 "nbformat": 4,
 "nbformat_minor": 2
}
